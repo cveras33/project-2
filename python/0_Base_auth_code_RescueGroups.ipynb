{
 "cells": [
  {
   "cell_type": "code",
   "execution_count": 1,
   "metadata": {},
   "outputs": [],
   "source": [
    "#!pip install requests"
   ]
  },
  {
   "cell_type": "code",
   "execution_count": 2,
   "metadata": {},
   "outputs": [],
   "source": [
    "import requests \n",
    "import datetime\n",
    "import base64"
   ]
  },
  {
   "cell_type": "code",
   "execution_count": 4,
   "metadata": {},
   "outputs": [],
   "source": [
    "# Do a look up for a token \n",
    "# This token is for future requests "
   ]
  },
  {
   "cell_type": "markdown",
   "metadata": {},
   "source": [
    "# Create your Access Token from the API Key"
   ]
  },
  {
   "cell_type": "code",
   "execution_count": 30,
   "metadata": {},
   "outputs": [],
   "source": [
    "api_key = \"FtnkaoTa\"\n",
    "\n",
    "content_type = {\n",
    "    \"Content-Type\" : \"application/vnd.api+json\",\n",
    "    \"Authorization\" : api_key\n",
    "}"
   ]
  },
  {
   "cell_type": "markdown",
   "metadata": {},
   "source": [
    "# Below is the query structure"
   ]
  },
  {
   "cell_type": "code",
   "execution_count": 31,
   "metadata": {},
   "outputs": [
    {
     "data": {
      "text/plain": [
       "'{\"meta\":{\"count\":807,\"countReturned\":25,\"pageReturned\":1,\"pages\":33,\"limit\":25,\"transactionId\":\"JXNVwftDsPtc\"},\"data\":[{\"type\":\"breeds\",\"id\":\"1\",\"attributes\":{\"name\":\"Abyssinian\"},\"relationships\":{\"species\":{\"data\":[{\"type\":\"species\",\"id\":\"3\",\"links\":{\"self\":\"\\\\/public\\\\/breeds\\\\/1\\\\/species\\\\/3\"}}],\"links\":{\"self\":\"\\\\/public\\\\/breeds\\\\/1\\\\/species\\\\/\"}}}},{\"type\":\"breeds\",\"id\":\"2\",\"attributes\":{\"name\":\"American Curl\"},\"relationships\":{\"species\":{\"data\":[{\"type\":\"species\",\"id\":\"3\",\"links\":{\"self\":\"\\\\/public\\\\/breeds\\\\/2\\\\/species\\\\/3\"}}],\"links\":{\"self\":\"\\\\/public\\\\/breeds\\\\/2\\\\/species\\\\/\"}}}},{\"type\":\"breeds\",\"id\":\"3\",\"attributes\":{\"name\":\"American Shorthair\"},\"relationships\":{\"species\":{\"data\":[{\"type\":\"species\",\"id\":\"3\",\"links\":{\"self\":\"\\\\/public\\\\/breeds\\\\/3\\\\/species\\\\/3\"}}],\"links\":{\"self\":\"\\\\/public\\\\/breeds\\\\/3\\\\/species\\\\/\"}}}},{\"type\":\"breeds\",\"id\":\"4\",\"attributes\":{\"name\":\"American Wirehair\"},\"relationships\":{\"species\":{\"data\":[{\"type\":\"species\",\"id\":\"3\",\"links\":{\"self\":\"\\\\/public\\\\/breeds\\\\/4\\\\/species\\\\/3\"}}],\"links\":{\"self\":\"\\\\/public\\\\/breeds\\\\/4\\\\/species\\\\/\"}}}},{\"type\":\"breeds\",\"id\":\"5\",\"attributes\":{\"name\":\"Angora\"},\"relationships\":{\"species\":{\"data\":[{\"type\":\"species\",\"id\":\"3\",\"links\":{\"self\":\"\\\\/public\\\\/breeds\\\\/5\\\\/species\\\\/3\"}}],\"links\":{\"self\":\"\\\\/public\\\\/breeds\\\\/5\\\\/species\\\\/\"}}}},{\"type\":\"breeds\",\"id\":\"6\",\"attributes\":{\"name\":\"Applehead Siamese\"},\"relationships\":{\"species\":{\"data\":[{\"type\":\"species\",\"id\":\"3\",\"links\":{\"self\":\"\\\\/public\\\\/breeds\\\\/6\\\\/species\\\\/3\"}}],\"links\":{\"self\":\"\\\\/public\\\\/breeds\\\\/6\\\\/species\\\\/\"}}}},{\"type\":\"breeds\",\"id\":\"7\",\"attributes\":{\"name\":\"Balinese\"},\"relationships\":{\"species\":{\"data\":[{\"type\":\"species\",\"id\":\"3\",\"links\":{\"self\":\"\\\\/public\\\\/breeds\\\\/7\\\\/species\\\\/3\"}}],\"links\":{\"self\":\"\\\\/public\\\\/breeds\\\\/7\\\\/species\\\\/\"}}}},{\"type\":\"breeds\",\"id\":\"8\",\"attributes\":{\"name\":\"Bengal\"},\"relationships\":{\"species\":{\"data\":[{\"type\":\"species\",\"id\":\"3\",\"links\":{\"self\":\"\\\\/public\\\\/breeds\\\\/8\\\\/species\\\\/3\"}}],\"links\":{\"self\":\"\\\\/public\\\\/breeds\\\\/8\\\\/species\\\\/\"}}}},{\"type\":\"breeds\",\"id\":\"9\",\"attributes\":{\"name\":\"Birman\"},\"relationships\":{\"species\":{\"data\":[{\"type\":\"species\",\"id\":\"3\",\"links\":{\"self\":\"\\\\/public\\\\/breeds\\\\/9\\\\/species\\\\/3\"}}],\"links\":{\"self\":\"\\\\/public\\\\/breeds\\\\/9\\\\/species\\\\/\"}}}},{\"type\":\"breeds\",\"id\":\"10\",\"attributes\":{\"name\":\"Bobtail\"},\"relationships\":{\"species\":{\"data\":[{\"type\":\"species\",\"id\":\"3\",\"links\":{\"self\":\"\\\\/public\\\\/breeds\\\\/10\\\\/species\\\\/3\"}}],\"links\":{\"self\":\"\\\\/public\\\\/breeds\\\\/10\\\\/species\\\\/\"}}}},{\"type\":\"breeds\",\"id\":\"11\",\"attributes\":{\"name\":\"Bombay\"},\"relationships\":{\"species\":{\"data\":[{\"type\":\"species\",\"id\":\"3\",\"links\":{\"self\":\"\\\\/public\\\\/breeds\\\\/11\\\\/species\\\\/3\"}}],\"links\":{\"self\":\"\\\\/public\\\\/breeds\\\\/11\\\\/species\\\\/\"}}}},{\"type\":\"breeds\",\"id\":\"12\",\"attributes\":{\"name\":\"British Shorthair\"},\"relationships\":{\"species\":{\"data\":[{\"type\":\"species\",\"id\":\"3\",\"links\":{\"self\":\"\\\\/public\\\\/breeds\\\\/12\\\\/species\\\\/3\"}}],\"links\":{\"self\":\"\\\\/public\\\\/breeds\\\\/12\\\\/species\\\\/\"}}}},{\"type\":\"breeds\",\"id\":\"13\",\"attributes\":{\"name\":\"Burmese\"},\"relationships\":{\"species\":{\"data\":[{\"type\":\"species\",\"id\":\"3\",\"links\":{\"self\":\"\\\\/public\\\\/breeds\\\\/13\\\\/species\\\\/3\"}}],\"links\":{\"self\":\"\\\\/public\\\\/breeds\\\\/13\\\\/species\\\\/\"}}}},{\"type\":\"breeds\",\"id\":\"14\",\"attributes\":{\"name\":\"Burmilla\"},\"relationships\":{\"species\":{\"data\":[{\"type\":\"species\",\"id\":\"3\",\"links\":{\"self\":\"\\\\/public\\\\/breeds\\\\/14\\\\/species\\\\/3\"}}],\"links\":{\"self\":\"\\\\/public\\\\/breeds\\\\/14\\\\/species\\\\/\"}}}},{\"type\":\"breeds\",\"id\":\"15\",\"attributes\":{\"name\":\"Calico\"},\"relationships\":{\"species\":{\"data\":[{\"type\":\"species\",\"id\":\"3\",\"links\":{\"self\":\"\\\\/public\\\\/breeds\\\\/15\\\\/species\\\\/3\"}}],\"links\":{\"self\":\"\\\\/public\\\\/breeds\\\\/15\\\\/species\\\\/\"}}}},{\"type\":\"breeds\",\"id\":\"16\",\"attributes\":{\"name\":\"Canadian Hairless\"},\"relationships\":{\"species\":{\"data\":[{\"type\":\"species\",\"id\":\"3\",\"links\":{\"self\":\"\\\\/public\\\\/breeds\\\\/16\\\\/species\\\\/3\"}}],\"links\":{\"self\":\"\\\\/public\\\\/breeds\\\\/16\\\\/species\\\\/\"}}}},{\"type\":\"breeds\",\"id\":\"17\",\"attributes\":{\"name\":\"Chausie\"},\"relationships\":{\"species\":{\"data\":[{\"type\":\"species\",\"id\":\"3\",\"links\":{\"self\":\"\\\\/public\\\\/breeds\\\\/17\\\\/species\\\\/3\"}}],\"links\":{\"self\":\"\\\\/public\\\\/breeds\\\\/17\\\\/species\\\\/\"}}}},{\"type\":\"breeds\",\"id\":\"19\",\"attributes\":{\"name\":\"Chinchilla\"},\"relationships\":{\"species\":{\"data\":[{\"type\":\"species\",\"id\":\"3\",\"links\":{\"self\":\"\\\\/public\\\\/breeds\\\\/19\\\\/species\\\\/3\"}}],\"links\":{\"self\":\"\\\\/public\\\\/breeds\\\\/19\\\\/species\\\\/\"}}}},{\"type\":\"breeds\",\"id\":\"20\",\"attributes\":{\"name\":\"Cornish Rex\"},\"relationships\":{\"species\":{\"data\":[{\"type\":\"species\",\"id\":\"3\",\"links\":{\"self\":\"\\\\/public\\\\/breeds\\\\/20\\\\/species\\\\/3\"}}],\"links\":{\"self\":\"\\\\/public\\\\/breeds\\\\/20\\\\/species\\\\/\"}}}},{\"type\":\"breeds\",\"id\":\"21\",\"attributes\":{\"name\":\"Cymric\"},\"relationships\":{\"species\":{\"data\":[{\"type\":\"species\",\"id\":\"3\",\"links\":{\"self\":\"\\\\/public\\\\/breeds\\\\/21\\\\/species\\\\/3\"}}],\"links\":{\"self\":\"\\\\/public\\\\/breeds\\\\/21\\\\/species\\\\/\"}}}},{\"type\":\"breeds\",\"id\":\"22\",\"attributes\":{\"name\":\"Devon Rex\"},\"relationships\":{\"species\":{\"data\":[{\"type\":\"species\",\"id\":\"3\",\"links\":{\"self\":\"\\\\/public\\\\/breeds\\\\/22\\\\/species\\\\/3\"}}],\"links\":{\"self\":\"\\\\/public\\\\/breeds\\\\/22\\\\/species\\\\/\"}}}},{\"type\":\"breeds\",\"id\":\"23\",\"attributes\":{\"name\":\"Dilute Tortoiseshell\"},\"relationships\":{\"species\":{\"data\":[{\"type\":\"species\",\"id\":\"3\",\"links\":{\"self\":\"\\\\/public\\\\/breeds\\\\/23\\\\/species\\\\/3\"}}],\"links\":{\"self\":\"\\\\/public\\\\/breeds\\\\/23\\\\/species\\\\/\"}}}},{\"type\":\"breeds\",\"id\":\"24\",\"attributes\":{\"name\":\"Domestic Long Hair\"},\"relationships\":{\"species\":{\"data\":[{\"type\":\"species\",\"id\":\"3\",\"links\":{\"self\":\"\\\\/public\\\\/breeds\\\\/24\\\\/species\\\\/3\"}}],\"links\":{\"self\":\"\\\\/public\\\\/breeds\\\\/24\\\\/species\\\\/\"}}}},{\"type\":\"breeds\",\"id\":\"29\",\"attributes\":{\"name\":\"Domestic Medium Hair\"},\"relationships\":{\"species\":{\"data\":[{\"type\":\"species\",\"id\":\"3\",\"links\":{\"self\":\"\\\\/public\\\\/breeds\\\\/29\\\\/species\\\\/3\"}}],\"links\":{\"self\":\"\\\\/public\\\\/breeds\\\\/29\\\\/species\\\\/\"}}}},{\"type\":\"breeds\",\"id\":\"35\",\"attributes\":{\"name\":\"Domestic Short Hair\"},\"relationships\":{\"species\":{\"data\":[{\"type\":\"species\",\"id\":\"3\",\"links\":{\"self\":\"\\\\/public\\\\/breeds\\\\/35\\\\/species\\\\/3\"}}],\"links\":{\"self\":\"\\\\/public\\\\/breeds\\\\/35\\\\/species\\\\/\"}}}}],\"included\":[{\"type\":\"species\",\"id\":\"3\",\"attributes\":{\"singular\":\"Cat\",\"plural\":\"Cats\",\"youngSingular\":\"Kitten\",\"youngPlural\":\"Kittens\"}}],\"links\":{\"self\":\"\\\\/public\\\\/animals\\\\/breeds\\\\/?page=1\",\"first\":\"\\\\/public\\\\/animals\\\\/breeds\\\\/?page=1\",\"last\":\"\\\\/public\\\\/animals\\\\/breeds\\\\/?page=33\",\"next\":\"\\\\/public\\\\/animals\\\\/breeds\\\\/?page=2\"}}'"
      ]
     },
     "execution_count": 31,
     "metadata": {},
     "output_type": "execute_result"
    }
   ],
   "source": [
    "base_url = \"https://api.rescuegroups.org/v5\" #You always need this base\n",
    "\n",
    "end_point_url = \"/public/animals/breeds/\"  #This is an EXAMPLE end point, please see documentation for different endpoint options\n",
    "\n",
    "query_url = f\"{base_url}{end_point_url}\"\n",
    "\n",
    "response = requests.get(query_url, headers = content_type) \n",
    "\n",
    "response.text"
   ]
  },
  {
   "cell_type": "code",
   "execution_count": null,
   "metadata": {},
   "outputs": [],
   "source": []
  }
 ],
 "metadata": {
  "kernelspec": {
   "display_name": "Python 3",
   "language": "python",
   "name": "python3"
  },
  "language_info": {
   "codemirror_mode": {
    "name": "ipython",
    "version": 3
   },
   "file_extension": ".py",
   "mimetype": "text/x-python",
   "name": "python",
   "nbconvert_exporter": "python",
   "pygments_lexer": "ipython3",
   "version": "3.8.5"
  },
  "toc": {
   "base_numbering": 1,
   "nav_menu": {},
   "number_sections": true,
   "sideBar": true,
   "skip_h1_title": false,
   "title_cell": "Table of Contents",
   "title_sidebar": "Contents",
   "toc_cell": false,
   "toc_position": {},
   "toc_section_display": true,
   "toc_window_display": false
  },
  "varInspector": {
   "cols": {
    "lenName": 16,
    "lenType": 16,
    "lenVar": 40
   },
   "kernels_config": {
    "python": {
     "delete_cmd_postfix": "",
     "delete_cmd_prefix": "del ",
     "library": "var_list.py",
     "varRefreshCmd": "print(var_dic_list())"
    },
    "r": {
     "delete_cmd_postfix": ") ",
     "delete_cmd_prefix": "rm(",
     "library": "var_list.r",
     "varRefreshCmd": "cat(var_dic_list()) "
    }
   },
   "types_to_exclude": [
    "module",
    "function",
    "builtin_function_or_method",
    "instance",
    "_Feature"
   ],
   "window_display": false
  }
 },
 "nbformat": 4,
 "nbformat_minor": 4
}
