{
 "cells": [
  {
   "cell_type": "code",
   "execution_count": 213,
   "metadata": {},
   "outputs": [],
   "source": [
    "from splinter import Browser\n",
    "from bs4 import BeautifulSoup as bs\n",
    "import time\n",
    "from webdriver_manager.chrome import ChromeDriverManager\n",
    "import requests\n",
    "import pandas as pd\n",
    "import re\n",
    "import selenium"
   ]
  },
  {
   "cell_type": "code",
   "execution_count": 2,
   "metadata": {},
   "outputs": [],
   "source": [
    "def init_browser():\n",
    "    # @NOTE: Replace the path with your actual path to the chromedriver\n",
    "    executable_path = {\"executable_path\": ChromeDriverManager().install()}\n",
    "    return Browser(\"chrome\", **executable_path, headless=False)"
   ]
  },
  {
   "cell_type": "code",
   "execution_count": 216,
   "metadata": {},
   "outputs": [
    {
     "name": "stderr",
     "output_type": "stream",
     "text": [
      "[WDM] - Current google-chrome version is 87.0.4280\n",
      "[WDM] - Get LATEST driver version for 87.0.4280\n",
      "[WDM] - Driver [/Users/jenniferdean/.wdm/drivers/chromedriver/mac64/87.0.4280.88/chromedriver] found in cache\n"
     ]
    },
    {
     "name": "stdout",
     "output_type": "stream",
     "text": [
      " \n"
     ]
    }
   ],
   "source": [
    "browser = init_browser()\n",
    "url = \"https://www.akc.org/dog-breeds/\"\n",
    "browser.visit(url)\n",
    "\n",
    "#THERE ARE 24 PAGES OF DOG BREEDS\n",
    "#https://www.akc.org/dog-breeds/page/24/"
   ]
  },
  {
   "cell_type": "code",
   "execution_count": 131,
   "metadata": {},
   "outputs": [],
   "source": [
    "browser.find_by_css('h3[class=\"breed-type-card__title mt0 mb0 f-25 py3 px3\"]').click()"
   ]
  },
  {
   "cell_type": "code",
   "execution_count": 200,
   "metadata": {},
   "outputs": [],
   "source": [
    "html = browser.html\n",
    "soup = bs(html, \"html.parser\")"
   ]
  },
  {
   "cell_type": "code",
   "execution_count": 133,
   "metadata": {},
   "outputs": [
    {
     "data": {
      "text/plain": [
       "'\\n                        Affenpinscher\\n                    '"
      ]
     },
     "execution_count": 133,
     "metadata": {},
     "output_type": "execute_result"
    }
   ],
   "source": [
    "dog_breed = soup.find(\"h1\").get_text()\n",
    "dog_breed"
   ]
  },
  {
   "cell_type": "code",
   "execution_count": 134,
   "metadata": {},
   "outputs": [
    {
     "data": {
      "text/plain": [
       "'Confident, Famously Funny, Fearless'"
      ]
     },
     "execution_count": 134,
     "metadata": {},
     "output_type": "execute_result"
    }
   ],
   "source": [
    "temperment = soup.find(\"span\", class_=\"attribute-list__description attribute-list__text attribute-list__text--lg mb4 bpm-mb5 pb0 d-block\").get_text()\n",
    "temperment"
   ]
  },
  {
   "cell_type": "code",
   "execution_count": 135,
   "metadata": {},
   "outputs": [],
   "source": [
    "for i in range(5):\n",
    "    akc_rank = soup.find_all(\"span\", class_=\"attribute-list__description attribute-list__text\")[0].get_text()\n",
    "    height = soup.find_all(\"span\", class_=\"attribute-list__description attribute-list__text\")[1].get_text()\n",
    "    weight = soup.find_all(\"span\", class_=\"attribute-list__description attribute-list__text\")[2].get_text()\n",
    "    life_ex = soup.find_all(\"span\", class_=\"attribute-list__description attribute-list__text\")[3].get_text()\n",
    "    group = soup.find_all(\"span\", class_=\"attribute-list__description attribute-list__text\")[4].get_text()"
   ]
  },
  {
   "cell_type": "code",
   "execution_count": 136,
   "metadata": {},
   "outputs": [],
   "source": [
    "image_url = soup.find_all('img')[4][\"data-src\"]"
   ]
  },
  {
   "cell_type": "code",
   "execution_count": 137,
   "metadata": {},
   "outputs": [],
   "source": [
    "description = soup.find(\"div\", class_=\"breed-hero__footer\").get_text()"
   ]
  },
  {
   "cell_type": "code",
   "execution_count": 138,
   "metadata": {},
   "outputs": [],
   "source": [
    "for i in range(5):\n",
    "    brushing = soup.find_all(\"div\", class_=\"bar-graph__section\")[0][\"style\"].strip('width: ;')\n",
    "    shedding = soup.find_all(\"div\", class_=\"bar-graph__section\")[1][\"style\"].strip('width: ;')\n",
    "    energy = soup.find_all(\"div\", class_=\"bar-graph__section\")[2][\"style\"].strip('width: ;')\n",
    "    trainability = soup.find_all(\"div\", class_=\"bar-graph__section\")[3][\"style\"].strip('width: ;')\n",
    "    temperment_scale = soup.find_all(\"div\", class_=\"bar-graph__section\")[4][\"style\"].strip('width: ;')"
   ]
  },
  {
   "cell_type": "code",
   "execution_count": 139,
   "metadata": {},
   "outputs": [],
   "source": [
    "table = soup.find_all('table')[0] # Grab the first table"
   ]
  },
  {
   "cell_type": "code",
   "execution_count": 140,
   "metadata": {},
   "outputs": [],
   "source": [
    "color_list = []\n",
    "final_color_list = []\n",
    "\n",
    "for row in table.find_all('td'):\n",
    "    if 'Description' in row:\n",
    "        continue\n",
    "    elif 'Standard Colors' in row:\n",
    "        continue\n",
    "    elif 'Registration Code' in row:\n",
    "        continue\n",
    "    elif \"Check Mark For Standard Color\" in row:\n",
    "        continue\n",
    "    else:\n",
    "        color = row.get_text()\n",
    "        color_list.append(color)\n",
    "\n",
    "for i in color_list:\n",
    "    if \"Check Mark For Standard Color\" in i:\n",
    "        continue     \n",
    "    else:\n",
    "        try:\n",
    "            if int(i) > 0:\n",
    "                continue\n",
    "        except:\n",
    "            final_color_list.append(i)"
   ]
  },
  {
   "cell_type": "code",
   "execution_count": 141,
   "metadata": {},
   "outputs": [
    {
     "data": {
      "text/plain": [
       "['Belge', 'Black', 'Black & Silver', 'Black & Tan', 'Red']"
      ]
     },
     "execution_count": 141,
     "metadata": {},
     "output_type": "execute_result"
    }
   ],
   "source": [
    "final_color_list"
   ]
  },
  {
   "cell_type": "code",
   "execution_count": null,
   "metadata": {},
   "outputs": [
    {
     "name": "stdout",
     "output_type": "stream",
     "text": [
      "\n",
      "                        Affenpinscher\n",
      "                    \n",
      "\n",
      "                        Afghan Hound\n",
      "                    \n",
      "\n",
      "                        Airedale Terrier\n",
      "                    \n",
      "\n",
      "                        Akita\n",
      "                    \n",
      "\n",
      "                        Alaskan Malamute\n",
      "                    \n",
      "\n",
      "                        American Bulldog\n",
      "                    \n",
      "\n",
      "                        American English Coonhound\n",
      "                    \n",
      "\n",
      "                        American Eskimo Dog\n",
      "                    \n",
      "\n",
      "                        American Foxhound\n",
      "                    \n",
      "\n",
      "                        American Hairless Terrier\n",
      "                    \n",
      "\n",
      "                        American Leopard Hound\n",
      "                    \n",
      "\n",
      "                        American Staffordshire Terrier\n",
      "                    \n"
     ]
    }
   ],
   "source": [
    "for i in range(13):\n",
    "    html = browser.html\n",
    "    soup = bs(html, \"html.parser\")\n",
    "    \n",
    "    browser.find_by_css('a[class=\"d-block relative\"]')[i].click()\n",
    "    time.sleep(60)\n",
    "    \n",
    "    html = browser.html\n",
    "    soup = bs(html, \"html.parser\")\n",
    "    \n",
    "    dog_breed = soup.find(\"h1\").get_text()\n",
    "    print(dog_breed)\n",
    "    \n",
    "    browser.back()\n",
    "    time.sleep(60)"
   ]
  },
  {
   "cell_type": "code",
   "execution_count": null,
   "metadata": {},
   "outputs": [],
   "source": [
    "dog_num = -1\n",
    "\n",
    "for i in range(13):\n",
    "    while dog_num <= 12:\n",
    "        dog_num = dog_num + 1\n",
    "        def get_breed_info (dog_num)\n",
    "    if dog_num = 13:\n",
    "        browser.find_by_css('a[class=\"##########\"]').click()\n",
    "    while dog_num > 12 && <= 24:\n",
    "        dog_num = dog_num + 1\n",
    "        def get_breed_info (dog_num)\n",
    "    if dog_num = 25:\n",
    "        browser.find_by_css('a[class=\"##########\"]').click()\n",
    "    while dog_num > 24 && <= 36:\n",
    "        dog_num = dog_num + 1\n",
    "        def get_breed_info (dog_num)\n",
    "    "
   ]
  },
  {
   "cell_type": "code",
   "execution_count": null,
   "metadata": {},
   "outputs": [],
   "source": [
    "dog_num = -1\n",
    "dog_num"
   ]
  },
  {
   "cell_type": "code",
   "execution_count": null,
   "metadata": {},
   "outputs": [],
   "source": [
    "def get_breed_info (dog_num):\n",
    "        html = browser.html\n",
    "        soup = bs(html, \"html.parser\")\n",
    "\n",
    "        browser.find_by_css('a[class=\"d-block relative\"]')[dog_num].click()\n",
    "        time.sleep(60)\n",
    "\n",
    "        html = browser.html\n",
    "        soup = bs(html, \"html.parser\")\n",
    "\n",
    "        dog_breed = soup.find(\"h1\").get_text()\n",
    "        print(dog_breed)\n",
    "\n",
    "        browser.back()\n",
    "        time.sleep(60)\n",
    "        \n",
    "        return(dog_num)"
   ]
  },
  {
   "cell_type": "code",
   "execution_count": null,
   "metadata": {},
   "outputs": [],
   "source": [
    "breeds_list_of_dicts = [{\"breed_name\" : dog_breed,\n",
    "                         \"temperment\": temperment,\n",
    "                         \"image\" : image_url,\n",
    "                         \"description\" : description\n",
    "                         \"akc_rank\" : akc_rank,\n",
    "                         \"height\" : height,\n",
    "                         \"weight\" : weight,\n",
    "                         \"life_expectancy\" : life_ex,\n",
    "                         \"brushing_scale\" : brushing,\n",
    "                         \"shedding_scale\" : shedding,\n",
    "                         \"energy_scale\" : energy,\n",
    "                         \"trainability_scale\" : trainability,\n",
    "                         \"temperment_scale\" : temperment_scale,\n",
    "                         \"color_options\" : final_color_list\n",
    "                        }]"
   ]
  }
 ],
 "metadata": {
  "kernelspec": {
   "display_name": "Python 3",
   "language": "python",
   "name": "python3"
  },
  "language_info": {
   "codemirror_mode": {
    "name": "ipython",
    "version": 3
   },
   "file_extension": ".py",
   "mimetype": "text/x-python",
   "name": "python",
   "nbconvert_exporter": "python",
   "pygments_lexer": "ipython3",
   "version": "3.8.5"
  },
  "toc": {
   "base_numbering": 1,
   "nav_menu": {},
   "number_sections": true,
   "sideBar": true,
   "skip_h1_title": false,
   "title_cell": "Table of Contents",
   "title_sidebar": "Contents",
   "toc_cell": false,
   "toc_position": {},
   "toc_section_display": true,
   "toc_window_display": false
  },
  "varInspector": {
   "cols": {
    "lenName": 16,
    "lenType": 16,
    "lenVar": 40
   },
   "kernels_config": {
    "python": {
     "delete_cmd_postfix": "",
     "delete_cmd_prefix": "del ",
     "library": "var_list.py",
     "varRefreshCmd": "print(var_dic_list())"
    },
    "r": {
     "delete_cmd_postfix": ") ",
     "delete_cmd_prefix": "rm(",
     "library": "var_list.r",
     "varRefreshCmd": "cat(var_dic_list()) "
    }
   },
   "types_to_exclude": [
    "module",
    "function",
    "builtin_function_or_method",
    "instance",
    "_Feature"
   ],
   "window_display": false
  }
 },
 "nbformat": 4,
 "nbformat_minor": 4
}
