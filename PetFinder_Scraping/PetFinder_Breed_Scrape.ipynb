{
 "cells": [
  {
   "cell_type": "code",
   "execution_count": 14,
   "metadata": {},
   "outputs": [],
   "source": [
    "from splinter import Browser\n",
    "from bs4 import BeautifulSoup as bs\n",
    "import time\n",
    "from webdriver_manager.chrome import ChromeDriverManager\n",
    "import requests\n",
    "import pandas as pd"
   ]
  },
  {
   "cell_type": "code",
   "execution_count": 2,
   "metadata": {},
   "outputs": [],
   "source": [
    "def init_browser():\n",
    "    # @NOTE: Replace the path with your actual path to the chromedriver\n",
    "    executable_path = {\"executable_path\": ChromeDriverManager().install()}\n",
    "    return Browser(\"chrome\", **executable_path, headless=False)"
   ]
  },
  {
   "cell_type": "code",
   "execution_count": 129,
   "metadata": {},
   "outputs": [
    {
     "name": "stderr",
     "output_type": "stream",
     "text": [
      "[WDM] - Current google-chrome version is 87.0.4280\n",
      "[WDM] - Get LATEST driver version for 87.0.4280\n",
      "[WDM] - Driver [/Users/jenniferdean/.wdm/drivers/chromedriver/mac64/87.0.4280.88/chromedriver] found in cache\n"
     ]
    },
    {
     "name": "stdout",
     "output_type": "stream",
     "text": [
      " \n"
     ]
    }
   ],
   "source": [
    "browser = init_browser()\n",
    "url = \"https://www.akc.org/dog-breeds/\"\n",
    "browser.visit(url)\n",
    "\n",
    "#THERE ARE 24 PAGES OF DOG BREEDS\n",
    "#https://www.akc.org/dog-breeds/page/24/"
   ]
  },
  {
   "cell_type": "code",
   "execution_count": null,
   "metadata": {},
   "outputs": [],
   "source": []
  },
  {
   "cell_type": "code",
   "execution_count": null,
   "metadata": {},
   "outputs": [],
   "source": []
  },
  {
   "cell_type": "code",
   "execution_count": null,
   "metadata": {},
   "outputs": [],
   "source": []
  },
  {
   "cell_type": "code",
   "execution_count": 3,
   "metadata": {},
   "outputs": [
    {
     "name": "stderr",
     "output_type": "stream",
     "text": [
      "[WDM] - Current google-chrome version is 87.0.4280\n",
      "[WDM] - Get LATEST driver version for 87.0.4280\n",
      "[WDM] - Driver [/Users/jenniferdean/.wdm/drivers/chromedriver/mac64/87.0.4280.88/chromedriver] found in cache\n"
     ]
    },
    {
     "name": "stdout",
     "output_type": "stream",
     "text": [
      " \n"
     ]
    }
   ],
   "source": [
    "browser = init_browser()\n",
    "url = \"https://www.akc.org/dog-breeds/german-shepherd-dog/\"\n",
    "browser.visit(url)"
   ]
  },
  {
   "cell_type": "code",
   "execution_count": 4,
   "metadata": {},
   "outputs": [],
   "source": [
    "html = browser.html\n",
    "soup = bs(html, \"html.parser\")"
   ]
  },
  {
   "cell_type": "code",
   "execution_count": 5,
   "metadata": {},
   "outputs": [],
   "source": [
    "dog_breed = soup.find(\"h1\").get_text()"
   ]
  },
  {
   "cell_type": "code",
   "execution_count": 6,
   "metadata": {},
   "outputs": [],
   "source": [
    "temperment = soup.find(\"span\", class_=\"attribute-list__description attribute-list__text attribute-list__text--lg mb4 bpm-mb5 pb0 d-block\").get_text()"
   ]
  },
  {
   "cell_type": "code",
   "execution_count": 7,
   "metadata": {},
   "outputs": [],
   "source": [
    "for i in range(5):\n",
    "    akc_rank = soup.find_all(\"span\", class_=\"attribute-list__description attribute-list__text\")[0].get_text()\n",
    "    height = soup.find_all(\"span\", class_=\"attribute-list__description attribute-list__text\")[1].get_text()\n",
    "    weight = soup.find_all(\"span\", class_=\"attribute-list__description attribute-list__text\")[2].get_text()\n",
    "    life_ex = soup.find_all(\"span\", class_=\"attribute-list__description attribute-list__text\")[3].get_text()\n",
    "    group = soup.find_all(\"span\", class_=\"attribute-list__description attribute-list__text\")[4].get_text()"
   ]
  },
  {
   "cell_type": "code",
   "execution_count": 8,
   "metadata": {},
   "outputs": [],
   "source": [
    "image_url = soup.find_all('img')[4][\"data-src\"]"
   ]
  },
  {
   "cell_type": "code",
   "execution_count": 9,
   "metadata": {},
   "outputs": [],
   "source": [
    "description = soup.find(\"div\", class_=\"breed-hero__footer\").get_text()"
   ]
  },
  {
   "cell_type": "code",
   "execution_count": 10,
   "metadata": {},
   "outputs": [],
   "source": [
    "for i in range(5):\n",
    "    brushing = soup.find_all(\"div\", class_=\"bar-graph__section\")[0][\"style\"].strip('width: ;')\n",
    "    shedding = soup.find_all(\"div\", class_=\"bar-graph__section\")[1][\"style\"].strip('width: ;')\n",
    "    energy = soup.find_all(\"div\", class_=\"bar-graph__section\")[2][\"style\"].strip('width: ;')\n",
    "    trainability = soup.find_all(\"div\", class_=\"bar-graph__section\")[3][\"style\"].strip('width: ;')\n",
    "    temperment = soup.find_all(\"div\", class_=\"bar-graph__section\")[4][\"style\"].strip('width: ;')"
   ]
  },
  {
   "cell_type": "code",
   "execution_count": 124,
   "metadata": {},
   "outputs": [],
   "source": [
    "table = soup.find_all('table')[0] # Grab the first table"
   ]
  },
  {
   "cell_type": "code",
   "execution_count": 127,
   "metadata": {},
   "outputs": [],
   "source": [
    "color_list = []\n",
    "final_color_list = []\n",
    "\n",
    "for row in table.find_all('td'):\n",
    "    if 'Description' in row:\n",
    "        continue\n",
    "    elif 'Standard Colors' in row:\n",
    "        continue\n",
    "    elif 'Registration Code' in row:\n",
    "        continue\n",
    "    elif \"Check Mark For Standard Color\" in row:\n",
    "        continue\n",
    "    else:\n",
    "        color = row.get_text()\n",
    "        color_list.append(color)\n",
    "\n",
    "for i in color_list:\n",
    "    if \"Check Mark For Standard Color\" in i:\n",
    "        continue     \n",
    "    else:\n",
    "        try:\n",
    "            if int(i) > 0:\n",
    "                continue\n",
    "        except:\n",
    "            final_color_list.append(i)"
   ]
  },
  {
   "cell_type": "code",
   "execution_count": 128,
   "metadata": {},
   "outputs": [
    {
     "data": {
      "text/plain": [
       "['Bi-Color',\n",
       " 'Black',\n",
       " 'Black & Cream',\n",
       " 'Black & Red',\n",
       " 'Black & Silver',\n",
       " 'Black & Tan',\n",
       " 'Blue',\n",
       " 'Gray',\n",
       " 'Liver',\n",
       " 'Sable',\n",
       " 'White']"
      ]
     },
     "execution_count": 128,
     "metadata": {},
     "output_type": "execute_result"
    }
   ],
   "source": [
    "final_color_list"
   ]
  },
  {
   "cell_type": "code",
   "execution_count": null,
   "metadata": {},
   "outputs": [],
   "source": []
  }
 ],
 "metadata": {
  "kernelspec": {
   "display_name": "Python 3",
   "language": "python",
   "name": "python3"
  },
  "language_info": {
   "codemirror_mode": {
    "name": "ipython",
    "version": 3
   },
   "file_extension": ".py",
   "mimetype": "text/x-python",
   "name": "python",
   "nbconvert_exporter": "python",
   "pygments_lexer": "ipython3",
   "version": "3.8.5"
  },
  "toc": {
   "base_numbering": 1,
   "nav_menu": {},
   "number_sections": true,
   "sideBar": true,
   "skip_h1_title": false,
   "title_cell": "Table of Contents",
   "title_sidebar": "Contents",
   "toc_cell": false,
   "toc_position": {},
   "toc_section_display": true,
   "toc_window_display": false
  },
  "varInspector": {
   "cols": {
    "lenName": 16,
    "lenType": 16,
    "lenVar": 40
   },
   "kernels_config": {
    "python": {
     "delete_cmd_postfix": "",
     "delete_cmd_prefix": "del ",
     "library": "var_list.py",
     "varRefreshCmd": "print(var_dic_list())"
    },
    "r": {
     "delete_cmd_postfix": ") ",
     "delete_cmd_prefix": "rm(",
     "library": "var_list.r",
     "varRefreshCmd": "cat(var_dic_list()) "
    }
   },
   "types_to_exclude": [
    "module",
    "function",
    "builtin_function_or_method",
    "instance",
    "_Feature"
   ],
   "window_display": false
  }
 },
 "nbformat": 4,
 "nbformat_minor": 4
}
