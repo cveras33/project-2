{
 "cells": [
  {
   "cell_type": "code",
   "execution_count": 1,
   "metadata": {},
   "outputs": [],
   "source": [
    "from splinter import Browser\n",
    "from bs4 import BeautifulSoup as bs\n",
    "import time\n",
    "from webdriver_manager.chrome import ChromeDriverManager\n",
    "import requests\n",
    "import pandas as pd\n",
    "import re\n",
    "import selenium"
   ]
  },
  {
   "cell_type": "code",
   "execution_count": 2,
   "metadata": {},
   "outputs": [],
   "source": [
    "def init_browser():\n",
    "    # @NOTE: Replace the path with your actual path to the chromedriver\n",
    "    executable_path = {\"executable_path\": ChromeDriverManager().install()}\n",
    "    return Browser(\"chrome\", **executable_path, headless=False)"
   ]
  },
  {
   "cell_type": "code",
   "execution_count": 4,
   "metadata": {},
   "outputs": [
    {
     "name": "stderr",
     "output_type": "stream",
     "text": [
      "[WDM] - Current google-chrome version is 87.0.4280\n",
      "[WDM] - Get LATEST driver version for 87.0.4280\n"
     ]
    },
    {
     "name": "stdout",
     "output_type": "stream",
     "text": [
      " \n"
     ]
    },
    {
     "name": "stderr",
     "output_type": "stream",
     "text": [
      "[WDM] - Driver [/Users/jenniferdean/.wdm/drivers/chromedriver/mac64/87.0.4280.88/chromedriver] found in cache\n"
     ]
    }
   ],
   "source": [
    "browser = init_browser()\n",
    "url = \"https://www.akc.org/dog-breeds/\"\n",
    "browser.visit(url)\n",
    "\n",
    "#THERE ARE 24 PAGES OF DOG BREEDS\n",
    "#https://www.akc.org/dog-breeds/page/24/"
   ]
  },
  {
   "cell_type": "code",
   "execution_count": 7,
   "metadata": {},
   "outputs": [
    {
     "ename": "IndexError",
     "evalue": "list index out of range",
     "output_type": "error",
     "traceback": [
      "\u001b[0;31m---------------------------------------------------------------------------\u001b[0m",
      "\u001b[0;31mIndexError\u001b[0m                                Traceback (most recent call last)",
      "\u001b[0;32m<ipython-input-7-1050a2a21f5e>\u001b[0m in \u001b[0;36m<module>\u001b[0;34m\u001b[0m\n\u001b[1;32m     26\u001b[0m         \u001b[0mweight\u001b[0m \u001b[0;34m=\u001b[0m \u001b[0msoup\u001b[0m\u001b[0;34m.\u001b[0m\u001b[0mfind_all\u001b[0m\u001b[0;34m(\u001b[0m\u001b[0;34m\"span\"\u001b[0m\u001b[0;34m,\u001b[0m \u001b[0mclass_\u001b[0m\u001b[0;34m=\u001b[0m\u001b[0;34m\"attribute-list__description attribute-list__text\"\u001b[0m\u001b[0;34m)\u001b[0m\u001b[0;34m[\u001b[0m\u001b[0;36m2\u001b[0m\u001b[0;34m]\u001b[0m\u001b[0;34m.\u001b[0m\u001b[0mget_text\u001b[0m\u001b[0;34m(\u001b[0m\u001b[0;34m)\u001b[0m\u001b[0;34m\u001b[0m\u001b[0;34m\u001b[0m\u001b[0m\n\u001b[1;32m     27\u001b[0m         \u001b[0mlife_ex\u001b[0m \u001b[0;34m=\u001b[0m \u001b[0msoup\u001b[0m\u001b[0;34m.\u001b[0m\u001b[0mfind_all\u001b[0m\u001b[0;34m(\u001b[0m\u001b[0;34m\"span\"\u001b[0m\u001b[0;34m,\u001b[0m \u001b[0mclass_\u001b[0m\u001b[0;34m=\u001b[0m\u001b[0;34m\"attribute-list__description attribute-list__text\"\u001b[0m\u001b[0;34m)\u001b[0m\u001b[0;34m[\u001b[0m\u001b[0;36m3\u001b[0m\u001b[0;34m]\u001b[0m\u001b[0;34m.\u001b[0m\u001b[0mget_text\u001b[0m\u001b[0;34m(\u001b[0m\u001b[0;34m)\u001b[0m\u001b[0;34m\u001b[0m\u001b[0;34m\u001b[0m\u001b[0m\n\u001b[0;32m---> 28\u001b[0;31m         \u001b[0mgroup\u001b[0m \u001b[0;34m=\u001b[0m \u001b[0msoup\u001b[0m\u001b[0;34m.\u001b[0m\u001b[0mfind_all\u001b[0m\u001b[0;34m(\u001b[0m\u001b[0;34m\"span\"\u001b[0m\u001b[0;34m,\u001b[0m \u001b[0mclass_\u001b[0m\u001b[0;34m=\u001b[0m\u001b[0;34m\"attribute-list__description attribute-list__text\"\u001b[0m\u001b[0;34m)\u001b[0m\u001b[0;34m[\u001b[0m\u001b[0;36m4\u001b[0m\u001b[0;34m]\u001b[0m\u001b[0;34m.\u001b[0m\u001b[0mget_text\u001b[0m\u001b[0;34m(\u001b[0m\u001b[0;34m)\u001b[0m\u001b[0;34m\u001b[0m\u001b[0;34m\u001b[0m\u001b[0m\n\u001b[0m\u001b[1;32m     29\u001b[0m \u001b[0;34m\u001b[0m\u001b[0m\n\u001b[1;32m     30\u001b[0m         \u001b[0mimage_url\u001b[0m \u001b[0;34m=\u001b[0m \u001b[0msoup\u001b[0m\u001b[0;34m.\u001b[0m\u001b[0mfind_all\u001b[0m\u001b[0;34m(\u001b[0m\u001b[0;34m'img'\u001b[0m\u001b[0;34m)\u001b[0m\u001b[0;34m[\u001b[0m\u001b[0;36m4\u001b[0m\u001b[0;34m]\u001b[0m\u001b[0;34m[\u001b[0m\u001b[0;34m\"data-src\"\u001b[0m\u001b[0;34m]\u001b[0m\u001b[0;34m\u001b[0m\u001b[0;34m\u001b[0m\u001b[0m\n",
      "\u001b[0;31mIndexError\u001b[0m: list index out of range"
     ]
    }
   ],
   "source": [
    "breeds_list_of_dicts = []\n",
    "\n",
    "for p in range(24):\n",
    "    p += 1\n",
    "    #####GO TO NEW BREED PAGE#####\n",
    "    url = f\"https://www.akc.org/dog-breeds/page/{p}/\"\n",
    "    browser.visit(url)\n",
    "    \n",
    "    for i in range(12):\n",
    "        html = browser.html\n",
    "        soup = bs(html, \"html.parser\")\n",
    "        \n",
    "        #####GO TO BREED DETAIL PAGE#####\n",
    "        browser.find_by_css('a[class=\"d-block relative\"]')[i].click()\n",
    "        time.sleep(1)\n",
    "        \n",
    "        html = browser.html\n",
    "        soup = bs(html, \"html.parser\")\n",
    "\n",
    "        dog_breed = soup.find(\"h1\").get_text()\n",
    "        dog_breed = dog_breed.replace('\\n', '').strip(\" \")\n",
    "\n",
    "        attribute_block = soup.find_all(\"span\", class_=\"attribute-list__description\")\n",
    "        \n",
    "        if len(attribute_block) > 5\n",
    "            temperment = soup.find(\"span\", class_=\"attribute-list__description attribute-list__text attribute-list__text--lg mb4 bpm-mb5 pb0 d-block\").get_text()\n",
    "            akc_rank = soup.find_all(\"span\", class_=\"attribute-list__description attribute-list__text\")[0].get_text()\n",
    "            height = soup.find_all(\"span\", class_=\"attribute-list__description attribute-list__text\")[1].get_text()\n",
    "            weight = soup.find_all(\"span\", class_=\"attribute-list__description attribute-list__text\")[2].get_text()\n",
    "            life_ex = soup.find_all(\"span\", class_=\"attribute-list__description attribute-list__text\")[3].get_text()\n",
    "            group = soup.find_all(\"span\", class_=\"attribute-list__description attribute-list__text\")[4].get_text()\n",
    "        else: \n",
    "            temperment = soup.find(\"span\", class_=\"attribute-list__description attribute-list__text attribute-list__text--lg mb4 bpm-mb5 pb0 d-block\").get_text()\n",
    "            height = soup.find_all(\"span\", class_=\"attribute-list__description attribute-list__text\")[0].get_text()\n",
    "            weight = soup.find_all(\"span\", class_=\"attribute-list__description attribute-list__text\")[1].get_text()\n",
    "            life_ex = soup.find_all(\"span\", class_=\"attribute-list__description attribute-list__text\")[2].get_text()\n",
    "            group = soup.find_all(\"span\", class_=\"attribute-list__description attribute-list__text\")[3].get_text()\n",
    "        \n",
    "        image_url = soup.find_all('img')[4][\"data-src\"]\n",
    "        \n",
    "        description = soup.find(\"div\", class_=\"breed-hero__footer\").get_text()\n",
    "        description = description.replace('\\n', '').strip(\" \")\n",
    "        \n",
    "        brushing = soup.find_all(\"div\", class_=\"bar-graph__section\")[0][\"style\"].strip('width: ;')\n",
    "        shedding = soup.find_all(\"div\", class_=\"bar-graph__section\")[1][\"style\"].strip('width: ;')\n",
    "        energy = soup.find_all(\"div\", class_=\"bar-graph__section\")[2][\"style\"].strip('width: ;')\n",
    "        trainability = soup.find_all(\"div\", class_=\"bar-graph__section\")[3][\"style\"].strip('width: ;')\n",
    "        temperment_scale = soup.find_all(\"div\", class_=\"bar-graph__section\")[4][\"style\"].strip('width: ;')\n",
    "        \n",
    "        #####COLOR TABLE#####\n",
    "        table = soup.find_all('table')[0]\n",
    "        \n",
    "        color_list = []\n",
    "        final_color_list = []\n",
    "\n",
    "        for row in table.find_all('td'):\n",
    "            if 'Description' in row:\n",
    "                continue\n",
    "            elif 'Standard Colors' in row:\n",
    "                continue\n",
    "            elif 'Registration Code' in row:\n",
    "                continue\n",
    "            elif \"Check Mark For Standard Color\" in row:\n",
    "                continue\n",
    "            elif \"\\n\" in row:\n",
    "                continue\n",
    "            else:\n",
    "                color = row.get_text()\n",
    "                color_list.append(color)\n",
    "            for i in color_list:\n",
    "                if \"Check Mark For Standard Color\" in i:\n",
    "                    continue\n",
    "                if \"\\n\" in i:\n",
    "                    continue\n",
    "                else:\n",
    "                    try:\n",
    "                        if int(i) > 0:\n",
    "                            continue\n",
    "                    except:\n",
    "                        final_color_list.append(i)\n",
    "        \n",
    "        #####GO BACK TO BREED PAGE#####\n",
    "        browser.back()\n",
    "        \n",
    "        #####APPEND TO THE DICTIONARY#####\n",
    "        breeds_list_of_dicts.append({\"breed_name\" : dog_breed,\n",
    "                         \"temperment\": temperment,\n",
    "                         \"image\" : image_url,\n",
    "                         \"description\" : description,\n",
    "                         \"akc_rank\" : akc_rank,\n",
    "                         \"height\" : height,\n",
    "                         \"weight\" : weight,\n",
    "                         \"life_expectancy\" : life_ex,\n",
    "                         \"brushing_scale\" : brushing,\n",
    "                         \"shedding_scale\" : shedding,\n",
    "                         \"energy_scale\" : energy,\n",
    "                         \"trainability_scale\" : trainability,\n",
    "                         \"temperment_scale\" : temperment_scale,\n",
    "                         \"color_options\" : final_color_list\n",
    "                        })\n",
    "        time.sleep(1)\n",
    "        \n",
    "browser.quit()"
   ]
  },
  {
   "cell_type": "code",
   "execution_count": 8,
   "metadata": {},
   "outputs": [
    {
     "data": {
      "text/plain": [
       "[{'breed_name': 'American Water Spaniel',\n",
       "  'temperment': 'Eager, Happy, Charming',\n",
       "  'image': 'https://s3.amazonaws.com/cdn-origin-etr.akc.org/wp-content/uploads/2017/11/28201602/American-Water-Spaniel-standing-outdoors.jpg',\n",
       "  'description': 'The American Water Spaniel, native to the lake country of the upper Midwest, is an upbeat, outdoorsy athlete who loves to hunt and swim. They are known to be happy, eager, and charming, though aloof with strangers and a bit stubborn.',\n",
       "  'akc_rank': 'Ranks 166 of 197',\n",
       "  'height': '15-18 inches',\n",
       "  'weight': '30-45 pounds (male), 25-40 pounds (female)',\n",
       "  'life_expectancy': '10-14 years',\n",
       "  'brushing_scale': '60%',\n",
       "  'shedding_scale': '20%',\n",
       "  'energy_scale': '60%',\n",
       "  'trainability_scale': '100%',\n",
       "  'temperment_scale': '80%',\n",
       "  'color_options': ['Brown',\n",
       "   'Brown',\n",
       "   'Brown',\n",
       "   'Chocolate',\n",
       "   'Brown',\n",
       "   'Chocolate',\n",
       "   'Brown',\n",
       "   'Chocolate',\n",
       "   'Liver',\n",
       "   'Brown',\n",
       "   'Chocolate',\n",
       "   'Liver']},\n",
       " {'breed_name': 'Anatolian Shepherd Dog',\n",
       "  'temperment': 'Loyal, Independent, Reserved',\n",
       "  'image': 'https://s3.amazonaws.com/cdn-origin-etr.akc.org/wp-content/uploads/2017/11/18121110/Anatolian-Shepherd.jpg',\n",
       "  'description': 'An Anatolian Shepherd Dog is a rugged, imposing flock guardian of ancient lineage. Protective and territorial, but also intelligent, patient, and profoundly loyal, these muscular avengers are prized as working guard dogs without equal.',\n",
       "  'akc_rank': 'Ranks 90 of 197',\n",
       "  'height': '29 inches (male), 27 inches (female)',\n",
       "  'weight': '110-150 pounds (male), 80-120 pounds (female)',\n",
       "  'life_expectancy': '11-13 years',\n",
       "  'brushing_scale': '40%',\n",
       "  'shedding_scale': '60%',\n",
       "  'energy_scale': '60%',\n",
       "  'trainability_scale': '40%',\n",
       "  'temperment_scale': '40%',\n",
       "  'color_options': ['Biscuit & White',\n",
       "   'Biscuit & White',\n",
       "   'Biscuit & White',\n",
       "   'Blue Fawn',\n",
       "   'Biscuit & White',\n",
       "   'Blue Fawn',\n",
       "   'Biscuit & White',\n",
       "   'Blue Fawn',\n",
       "   'Brindle',\n",
       "   'Biscuit & White',\n",
       "   'Blue Fawn',\n",
       "   'Brindle',\n",
       "   'Biscuit & White',\n",
       "   'Blue Fawn',\n",
       "   'Brindle',\n",
       "   'Fawn',\n",
       "   'Biscuit & White',\n",
       "   'Blue Fawn',\n",
       "   'Brindle',\n",
       "   'Fawn',\n",
       "   'Biscuit & White',\n",
       "   'Blue Fawn',\n",
       "   'Brindle',\n",
       "   'Fawn',\n",
       "   'Gray Fawn',\n",
       "   'Biscuit & White',\n",
       "   'Blue Fawn',\n",
       "   'Brindle',\n",
       "   'Fawn',\n",
       "   'Gray Fawn',\n",
       "   'Biscuit & White',\n",
       "   'Blue Fawn',\n",
       "   'Brindle',\n",
       "   'Fawn',\n",
       "   'Gray Fawn',\n",
       "   'Liver',\n",
       "   'Biscuit & White',\n",
       "   'Blue Fawn',\n",
       "   'Brindle',\n",
       "   'Fawn',\n",
       "   'Gray Fawn',\n",
       "   'Liver',\n",
       "   'Biscuit & White',\n",
       "   'Blue Fawn',\n",
       "   'Brindle',\n",
       "   'Fawn',\n",
       "   'Gray Fawn',\n",
       "   'Liver',\n",
       "   'Red Fawn',\n",
       "   'Biscuit & White',\n",
       "   'Blue Fawn',\n",
       "   'Brindle',\n",
       "   'Fawn',\n",
       "   'Gray Fawn',\n",
       "   'Liver',\n",
       "   'Red Fawn',\n",
       "   'Biscuit & White',\n",
       "   'Blue Fawn',\n",
       "   'Brindle',\n",
       "   'Fawn',\n",
       "   'Gray Fawn',\n",
       "   'Liver',\n",
       "   'Red Fawn',\n",
       "   'White',\n",
       "   'Biscuit & White',\n",
       "   'Blue Fawn',\n",
       "   'Brindle',\n",
       "   'Fawn',\n",
       "   'Gray Fawn',\n",
       "   'Liver',\n",
       "   'Red Fawn',\n",
       "   'White']}]"
      ]
     },
     "execution_count": 8,
     "metadata": {},
     "output_type": "execute_result"
    }
   ],
   "source": [
    "breeds_list_of_dicts"
   ]
  },
  {
   "cell_type": "code",
   "execution_count": null,
   "metadata": {},
   "outputs": [],
   "source": [
    "#American Bulldog - NOT in AKC\n",
    "#Appenzeller Sennenhund"
   ]
  },
  {
   "cell_type": "code",
   "execution_count": 12,
   "metadata": {},
   "outputs": [
    {
     "data": {
      "text/plain": [
       "5"
      ]
     },
     "execution_count": 12,
     "metadata": {},
     "output_type": "execute_result"
    }
   ],
   "source": [
    "len(soup.find_all(\"span\", class_=\"attribute-list__description\")) #Appenzeller Sennenhund"
   ]
  },
  {
   "cell_type": "code",
   "execution_count": 21,
   "metadata": {},
   "outputs": [
    {
     "data": {
      "text/plain": [
       "6"
      ]
     },
     "execution_count": 21,
     "metadata": {},
     "output_type": "execute_result"
    }
   ],
   "source": [
    "len(soup.find_all(\"span\", class_=\"attribute-list__description\")) #Affenpinscher"
   ]
  },
  {
   "cell_type": "code",
   "execution_count": 30,
   "metadata": {},
   "outputs": [
    {
     "data": {
      "text/plain": [
       "'https://s3.amazonaws.com/cdn-origin-etr.akc.org/wp-content/uploads/2019/12/31141719/American-Bulldog.6.jpg'"
      ]
     },
     "execution_count": 30,
     "metadata": {},
     "output_type": "execute_result"
    }
   ],
   "source": [
    "soup.find_all('img')[4][\"data-src\"] #American Bulldog"
   ]
  },
  {
   "cell_type": "code",
   "execution_count": 24,
   "metadata": {},
   "outputs": [],
   "source": [
    "html = browser.html\n",
    "soup = bs(html, \"html.parser\")"
   ]
  },
  {
   "cell_type": "code",
   "execution_count": 23,
   "metadata": {},
   "outputs": [
    {
     "data": {
      "text/plain": [
       "6"
      ]
     },
     "execution_count": 23,
     "metadata": {},
     "output_type": "execute_result"
    }
   ],
   "source": [
    "len(soup.find_all(\"span\", class_=\"attribute-list__description\"))"
   ]
  },
  {
   "cell_type": "code",
   "execution_count": null,
   "metadata": {},
   "outputs": [],
   "source": []
  }
 ],
 "metadata": {
  "kernelspec": {
   "display_name": "Python 3",
   "language": "python",
   "name": "python3"
  },
  "language_info": {
   "codemirror_mode": {
    "name": "ipython",
    "version": 3
   },
   "file_extension": ".py",
   "mimetype": "text/x-python",
   "name": "python",
   "nbconvert_exporter": "python",
   "pygments_lexer": "ipython3",
   "version": "3.8.5"
  },
  "toc": {
   "base_numbering": 1,
   "nav_menu": {},
   "number_sections": true,
   "sideBar": true,
   "skip_h1_title": false,
   "title_cell": "Table of Contents",
   "title_sidebar": "Contents",
   "toc_cell": false,
   "toc_position": {},
   "toc_section_display": true,
   "toc_window_display": false
  },
  "varInspector": {
   "cols": {
    "lenName": 16,
    "lenType": 16,
    "lenVar": 40
   },
   "kernels_config": {
    "python": {
     "delete_cmd_postfix": "",
     "delete_cmd_prefix": "del ",
     "library": "var_list.py",
     "varRefreshCmd": "print(var_dic_list())"
    },
    "r": {
     "delete_cmd_postfix": ") ",
     "delete_cmd_prefix": "rm(",
     "library": "var_list.r",
     "varRefreshCmd": "cat(var_dic_list()) "
    }
   },
   "types_to_exclude": [
    "module",
    "function",
    "builtin_function_or_method",
    "instance",
    "_Feature"
   ],
   "window_display": false
  }
 },
 "nbformat": 4,
 "nbformat_minor": 4
}
