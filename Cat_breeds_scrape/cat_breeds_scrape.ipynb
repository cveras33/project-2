{
 "cells": [
  {
   "cell_type": "code",
   "execution_count": 1,
   "metadata": {},
   "outputs": [],
   "source": [
    "from splinter import Browser\n",
    "from bs4 import BeautifulSoup as bs\n",
    "import time\n",
    "from webdriver_manager.chrome import ChromeDriverManager\n",
    "import requests\n",
    "import pandas as pd\n",
    "import re\n",
    "import selenium\n",
    "from pandas import DataFrame"
   ]
  },
  {
   "cell_type": "code",
   "execution_count": 2,
   "metadata": {},
   "outputs": [],
   "source": [
    "def init_browser():\n",
    "    # @NOTE: Replace the path with your actual path to the chromedriver\n",
    "    executable_path = {\"executable_path\": ChromeDriverManager().install()}\n",
    "    return Browser(\"chrome\", **executable_path, headless=False)"
   ]
  },
  {
   "cell_type": "code",
   "execution_count": 3,
   "metadata": {},
   "outputs": [
    {
     "name": "stderr",
     "output_type": "stream",
     "text": [
      "[WDM] - Current google-chrome version is 87.0.4280\n",
      "[WDM] - Get LATEST driver version for 87.0.4280\n",
      "[WDM] - Get LATEST driver version for 87.0.4280\n",
      "[WDM] - Trying to download new driver from http://chromedriver.storage.googleapis.com/87.0.4280.88/chromedriver_mac64.zip\n"
     ]
    },
    {
     "name": "stdout",
     "output_type": "stream",
     "text": [
      " \n"
     ]
    },
    {
     "name": "stderr",
     "output_type": "stream",
     "text": [
      "[WDM] - Driver has been saved in cache [/Users/jenniferdean/.wdm/drivers/chromedriver/mac64/87.0.4280.88]\n"
     ]
    }
   ],
   "source": [
    "browser = init_browser()\n",
    "url = \"https://www.petfinder.com/cat-breeds/?page=1\"\n",
    "browser.visit(url)\n",
    "\n",
    "#THERE ARE 7 PAGES OF CAT BREEDS\n",
    "#https://www.petfinder.com/cat-breeds/?page=7 - 50 Breeds Total"
   ]
  },
  {
   "cell_type": "code",
   "execution_count": 9,
   "metadata": {},
   "outputs": [],
   "source": [
    "html = browser.html\n",
    "soup = bs(html, \"html.parser\")"
   ]
  },
  {
   "cell_type": "code",
   "execution_count": 8,
   "metadata": {},
   "outputs": [],
   "source": [
    "browser.find_by_css('a[class=\"contentCard-wrap\"]')[0].click()"
   ]
  },
  {
   "cell_type": "code",
   "execution_count": 15,
   "metadata": {},
   "outputs": [],
   "source": [
    "cat_breed = soup.find_all(\"h1\")[1].get_text()"
   ]
  },
  {
   "cell_type": "code",
   "execution_count": 24,
   "metadata": {},
   "outputs": [],
   "source": [
    "image_url = soup.find_all('img')[0][\"src\"]"
   ]
  },
  {
   "cell_type": "code",
   "execution_count": 53,
   "metadata": {},
   "outputs": [],
   "source": [
    "description = soup.find(\"div\", class_=\"txt m-txt_lg u-vr6x\").get_text().replace('\\n', '').strip(\" \")"
   ]
  },
  {
   "cell_type": "code",
   "execution_count": 40,
   "metadata": {},
   "outputs": [
    {
     "data": {
      "text/plain": [
       "'5 out of 5'"
      ]
     },
     "execution_count": 40,
     "metadata": {},
     "output_type": "execute_result"
    }
   ],
   "source": [
    "playfullness = soup.find_all(\"span\", class_=\"u-isVisuallyHidden\")[8].get_text().replace('\\n', '').strip(\" \")\n",
    "activity = soup.find_all(\"span\", class_=\"u-isVisuallyHidden\")[9].get_text().replace('\\n', '').strip(\" \")\n",
    "friendliness_others = soup.find_all(\"span\", class_=\"u-isVisuallyHidden\")[10].get_text().replace('\\n', '').strip(\" \")\n",
    "friendliness_children = soup.find_all(\"span\", class_=\"u-isVisuallyHidden\")[11].get_text().replace('\\n', '').strip(\" \")\n",
    "grooming = soup.find_all(\"span\", class_=\"u-isVisuallyHidden\")[12].get_text().replace('\\n', '').strip(\" \")\n",
    "vocality = soup.find_all(\"span\", class_=\"u-isVisuallyHidden\")[13].get_text().replace('\\n', '').strip(\" \")\n",
    "attention = soup.find_all(\"span\", class_=\"u-isVisuallyHidden\")[14].get_text().replace('\\n', '').strip(\" \")\n",
    "affection = soup.find_all(\"span\", class_=\"u-isVisuallyHidden\")[15].get_text().replace('\\n', '').strip(\" \")\n",
    "docility = soup.find_all(\"span\", class_=\"u-isVisuallyHidden\")[16].get_text().replace('\\n', '').strip(\" \")\n",
    "intelligence = soup.find_all(\"span\", class_=\"u-isVisuallyHidden\")[17].get_text().replace('\\n', '').strip(\" \")\n",
    "independence = soup.find_all(\"span\", class_=\"u-isVisuallyHidden\")[18].get_text().replace('\\n', '').strip(\" \")\n",
    "hardiness = soup.find_all(\"span\", class_=\"u-isVisuallyHidden\")[19].get_text().replace('\\n', '').strip(\" \")"
   ]
  },
  {
   "cell_type": "code",
   "execution_count": null,
   "metadata": {},
   "outputs": [],
   "source": []
  },
  {
   "cell_type": "code",
   "execution_count": null,
   "metadata": {},
   "outputs": [],
   "source": [
    "cat_breed_list_of_dicts.append({\"breed_name\" : cat_breed,\n",
    "                                \"image\" : image_url,\n",
    "                                \"description\" : description,\n",
    "                                \"playfullness\" : playfullness,\n",
    "                                \"activity\" : activity,\n",
    "                                \"friendliness_others\" : friendliness_others,\n",
    "                                \"friendliness_children\" : friendliness_children,\n",
    "                                \"grooming\" : grooming,\n",
    "                                \"vocality\" : vocality,\n",
    "                                \"attention\" : attention,\n",
    "                                \"affection\" : affection,\n",
    "                                \"docility\" : docility,\n",
    "                                \"intelligence\" : intelligence,\n",
    "                                \"independence\" : independence,\n",
    "                                \"hardiness\" : hardiness\n",
    "                               })\n",
    "                         "
   ]
  },
  {
   "cell_type": "code",
   "execution_count": null,
   "metadata": {},
   "outputs": [],
   "source": []
  },
  {
   "cell_type": "code",
   "execution_count": null,
   "metadata": {},
   "outputs": [],
   "source": []
  }
 ],
 "metadata": {
  "kernelspec": {
   "display_name": "Python 3",
   "language": "python",
   "name": "python3"
  },
  "language_info": {
   "codemirror_mode": {
    "name": "ipython",
    "version": 3
   },
   "file_extension": ".py",
   "mimetype": "text/x-python",
   "name": "python",
   "nbconvert_exporter": "python",
   "pygments_lexer": "ipython3",
   "version": "3.8.5"
  },
  "toc": {
   "base_numbering": 1,
   "nav_menu": {},
   "number_sections": true,
   "sideBar": true,
   "skip_h1_title": false,
   "title_cell": "Table of Contents",
   "title_sidebar": "Contents",
   "toc_cell": false,
   "toc_position": {},
   "toc_section_display": true,
   "toc_window_display": false
  },
  "varInspector": {
   "cols": {
    "lenName": 16,
    "lenType": 16,
    "lenVar": 40
   },
   "kernels_config": {
    "python": {
     "delete_cmd_postfix": "",
     "delete_cmd_prefix": "del ",
     "library": "var_list.py",
     "varRefreshCmd": "print(var_dic_list())"
    },
    "r": {
     "delete_cmd_postfix": ") ",
     "delete_cmd_prefix": "rm(",
     "library": "var_list.r",
     "varRefreshCmd": "cat(var_dic_list()) "
    }
   },
   "types_to_exclude": [
    "module",
    "function",
    "builtin_function_or_method",
    "instance",
    "_Feature"
   ],
   "window_display": false
  }
 },
 "nbformat": 4,
 "nbformat_minor": 4
}
